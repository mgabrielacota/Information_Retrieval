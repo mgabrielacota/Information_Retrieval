{
 "cells": [
  {
   "cell_type": "markdown",
   "id": "8056e56f",
   "metadata": {},
   "source": [
    "## Sistema de recomendação: Content-Based Filtering\n",
    "A recomendação é feita baseada nas **features de usuário** e nas **features dos produtos**. O match entre usuario e produto é feito pelo produto escalar:\n",
    "\n",
    "# $\\vec{v}_{u}^{i}\\cdot \\vec{v}_{p}^{j}$\n",
    "\n",
    "onde $\\vec{v}_{u}^{i}$ e $\\vec{v}_{p}^{j}$ são vetores computados das features do usuario $i$ e do produto $j$, respetivamente.\n",
    "\n",
    "Muitos algoritmos de content-based filtering estimam $\\vec{v}_{u}^{i}$ e  $\\vec{v}_{p}^{j}$ usando redes neurais."
   ]
  },
  {
   "cell_type": "code",
   "execution_count": null,
   "id": "adcd8ea9",
   "metadata": {},
   "outputs": [],
   "source": []
  }
 ],
 "metadata": {
  "kernelspec": {
   "display_name": "Python 3",
   "language": "python",
   "name": "python3"
  },
  "language_info": {
   "codemirror_mode": {
    "name": "ipython",
    "version": 3
   },
   "file_extension": ".py",
   "mimetype": "text/x-python",
   "name": "python",
   "nbconvert_exporter": "python",
   "pygments_lexer": "ipython3",
   "version": "3.8.8"
  }
 },
 "nbformat": 4,
 "nbformat_minor": 5
}

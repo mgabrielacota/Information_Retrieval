{
 "cells": [
  {
   "cell_type": "markdown",
   "id": "acde042b",
   "metadata": {},
   "source": [
    "# Sistema de recomendação: Content-Based Filtering\n",
    "A recomendação é feita baseada nas **features de usuário** e nas **features dos produtos**. O match entre usuario e produto é feito pelo produto escalar:\n",
    "\n",
    "## $ y^{i,j} = \\vec{v}_{u}^{i}\\cdot \\vec{v}_{p}^{j}$\n",
    "\n",
    "onde $\\vec{v}_{u}^{i}$ e $\\vec{v}_{p}^{j}$ são vetores computados das features do usuario $i$ e do produto $j$, respetivamente.\n",
    "\n",
    "Muitos algoritmos de content-based filtering estimam $\\vec{v}_{u}^{i}$ e  $\\vec{v}_{p}^{j}$ usando redes neurais com a seguinte funcao de de custo:\n",
    "## $J = \\sum_{i,j}\\left( \\vec{v}_{u}^{i}\\cdot \\vec{v}_{p}^{j} -  y^{i,j} \\right)^2 + \\text{termos de regularização}$\n",
    "\n",
    "Esse algoritmo tambem pode ser utilizado para *encontrar produtos similares*. Para isso, calculamos a distancia entre as features\n",
    "## $ ||\\vec{v}_{u}^{i} - \\vec{v}_{p}^{j}||^2$\n",
    "\n",
    "# Recomendação em grandes catálogos\n",
    "O banco de dados contem mais de 6 milhoes de produtos. Portanto, o algoritmo pode ser computacionalmente inviavel de rodar para tantos itens. Para remediar esse problema, podemos implementar o sistema de recomendação em duas etapas: **retrieval** e **ranking**.\n",
    "\n",
    "## Retrieval\n",
    "Gerar uma lista de produtos plausiveis de serem buscados para aquela query. Por exemplo:\n",
    "1) 100 produtos mais vendidos, clicados e adicionados ao carrinho numa determinada categoria de produtos\n",
    "2) ....\n",
    "\n",
    "\n",
    "Retrieving mais itens resulta numa performance melhor a custo de recomendacoes mais lentas. Para analizar o trade-off entre performance e velocidade, podemos rodar experimentos para ver se recuperar itens adicionais resulta em recomendacoes mais relevantes para o usuario.\n",
    "\n",
    "## Ranking\n",
    "\n",
    "Dada a lista de itens gerada na etapa anterior, rankeie os melhores produtos usando o modelo de aprendizagem e mostre esses itens rankeados ao usuario"
   ]
  },
  {
   "cell_type": "code",
   "execution_count": null,
   "id": "d7916aca",
   "metadata": {},
   "outputs": [],
   "source": []
  }
 ],
 "metadata": {
  "kernelspec": {
   "display_name": "Python 3",
   "language": "python",
   "name": "python3"
  },
  "language_info": {
   "codemirror_mode": {
    "name": "ipython",
    "version": 3
   },
   "file_extension": ".py",
   "mimetype": "text/x-python",
   "name": "python",
   "nbconvert_exporter": "python",
   "pygments_lexer": "ipython3",
   "version": "3.8.8"
  }
 },
 "nbformat": 4,
 "nbformat_minor": 5
}
